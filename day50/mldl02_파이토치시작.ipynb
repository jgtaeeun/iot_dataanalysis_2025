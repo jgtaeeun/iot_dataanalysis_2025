{
 "cells": [
  {
   "cell_type": "markdown",
   "metadata": {},
   "source": [
    "## 파이토치\n",
    "- https://pytorch.org/\n",
    "- https://www.ultralytics.com/ko 와 손을 잡고 yolo 개발\n",
    "    - 물체인식, 영상인식 분야에 트렌트\n",
    "- <img src='./파이토치.png' width = 700>"
   ]
  },
  {
   "cell_type": "markdown",
   "metadata": {},
   "source": [
    "#### 파이토치 GPU와 같이 사용하려면\n",
    "- NVIDIA CUDA 설치, 확인\n",
    "- CuDNN(CUDA 상에서 사용하는 여러 패키지) 설치\n",
    "- CUDA 버전에 맞는 Pytorch 설치\n",
    "\n",
    "#### Tensorflow GPU\n",
    "- NVIDIA CUDA 상에서 동작\n",
    "- 윈도우에서는 설치가 무지 어렵다.\n"
   ]
  },
  {
   "cell_type": "markdown",
   "metadata": {},
   "source": [
    "#### NVIDIA 설정\n",
    "\n",
    "- power shell\n",
    "    ```shell\n",
    "    > nvidia-smi\n",
    "    ```\n",
    "- 그래픽카드 설명 표시\n",
    "- <img src='../images/nvidia 설정.png' >"
   ]
  },
  {
   "cell_type": "markdown",
   "metadata": {},
   "source": [
    "#### CUDA 설치\n",
    "- https://developer.nvidia.com/cuda-11-8-0-download-archive\n",
    "    - operating system: Windows \n",
    "    - architecture : x86_64 \n",
    "    - version:  11 \n",
    "    - installer type : exe(local) \n",
    "    - base installer : download(3.0GB)\n",
    "\n",
    "- installer 설치\n",
    "    - 사용자정의 설치\n",
    "    - documentation 체크 해제\n",
    "    - visual studio intergation 해제\n",
    "    - nsight 관련 해제\n",
    "    - display driver , hd audio가 현재버전이 낮을 경우, 체크 해제\n",
    "- 설치경로\n",
    "    - <img src ='../images/쿠다설치경로.png'>"
   ]
  },
  {
   "cell_type": "markdown",
   "metadata": {},
   "source": [
    "#### cuDNN 11.8\n",
    "- https://developer.nvidia.com/rdp/cudnn-archive\n",
    "    - Download cuDNN v8.6.0(October 3rd, 2022) , for CUDA 11.x\n",
    "    - Local Installer for Windows(Zip)\n",
    "\n",
    "- 압축해제 후 CUDA 위치(C:\\Program Files\\NVIDIA GPU Computing Toolkit\\CUDA)에 4개의 파일(bin, include,lib, LICENSE) 붙여넣기 \n",
    "- <img src ='../images/cuDNN복사후확인할 것.png'>"
   ]
  },
  {
   "cell_type": "markdown",
   "metadata": {},
   "source": [
    "#### Pytorch 설치\n",
    "- CUDA, cuDNN 설치 후 콘솔에서 아래 명령어를 실행(가상환경에서 pytorch설치)\n",
    "    ```shell\n",
    "    > .\\mlvenv\\Scripts\\activate\n",
    "    > pip install torch torchvision torchaudio --index-url https://download.pytorch.org/whl/cu118\n",
    "    ```\n",
    "- <img src='./pytorch설치코드.png' width = 500>"
   ]
  },
  {
   "cell_type": "markdown",
   "metadata": {},
   "source": [
    "#### 파이토치 확인"
   ]
  },
  {
   "cell_type": "code",
   "execution_count": 1,
   "metadata": {},
   "outputs": [],
   "source": [
    "# 파이토치 모듈 사용\n",
    "import torch"
   ]
  },
  {
   "cell_type": "code",
   "execution_count": 3,
   "metadata": {},
   "outputs": [
    {
     "data": {
      "text/plain": [
       "True"
      ]
     },
     "execution_count": 3,
     "metadata": {},
     "output_type": "execute_result"
    }
   ],
   "source": [
    "torch.cuda.is_available()\n"
   ]
  },
  {
   "cell_type": "code",
   "execution_count": 4,
   "metadata": {},
   "outputs": [
    {
     "data": {
      "text/plain": [
       "device(type='cuda')"
      ]
     },
     "execution_count": 4,
     "metadata": {},
     "output_type": "execute_result"
    }
   ],
   "source": [
    "device = torch.device('cuda' if torch.cuda.is_available() else 'cpu')\n",
    "device"
   ]
  }
 ],
 "metadata": {
  "kernelspec": {
   "display_name": "mlvenv",
   "language": "python",
   "name": "python3"
  },
  "language_info": {
   "codemirror_mode": {
    "name": "ipython",
    "version": 3
   },
   "file_extension": ".py",
   "mimetype": "text/x-python",
   "name": "python",
   "nbconvert_exporter": "python",
   "pygments_lexer": "ipython3",
   "version": "3.11.9"
  }
 },
 "nbformat": 4,
 "nbformat_minor": 2
}
