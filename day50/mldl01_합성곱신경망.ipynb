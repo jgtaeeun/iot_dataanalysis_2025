{
 "cells": [
  {
   "cell_type": "markdown",
   "metadata": {},
   "source": [
    "## keras_합성곱신경망\n",
    "\n",
    "### FashionMNIST CNN\n",
    "\n"
   ]
  },
  {
   "cell_type": "code",
   "execution_count": 38,
   "metadata": {},
   "outputs": [],
   "source": [
    "import tensorflow\n",
    "from tensorflow import keras\n",
    "from sklearn.model_selection import train_test_split #검증세트 만들기 위해서\n"
   ]
  },
  {
   "cell_type": "code",
   "execution_count": 39,
   "metadata": {},
   "outputs": [],
   "source": [
    "(train_input, train_target) , (test_input, test_target)  = keras.datasets.fashion_mnist.load_data()"
   ]
  },
  {
   "cell_type": "code",
   "execution_count": 40,
   "metadata": {},
   "outputs": [
    {
     "data": {
      "text/plain": [
       "(60000, 28, 28)"
      ]
     },
     "execution_count": 40,
     "metadata": {},
     "output_type": "execute_result"
    }
   ],
   "source": [
    "train_input.shape"
   ]
  },
  {
   "cell_type": "code",
   "execution_count": 41,
   "metadata": {},
   "outputs": [],
   "source": [
    "# 255.0 정규화처리(스케일링, 0과 1사이값)\n",
    "# reshape(-1, 28, 28, 1) 4차원 배열로 변경 - 채널추가를 위해서\n",
    "train_scaled= train_input.reshape(-1, 28, 28, 1)  / 255.0"
   ]
  },
  {
   "cell_type": "code",
   "execution_count": 42,
   "metadata": {},
   "outputs": [
    {
     "data": {
      "text/plain": [
       "(60000, 28, 28, 1)"
      ]
     },
     "execution_count": 42,
     "metadata": {},
     "output_type": "execute_result"
    }
   ],
   "source": [
    "train_scaled.shape"
   ]
  },
  {
   "cell_type": "code",
   "execution_count": 43,
   "metadata": {},
   "outputs": [],
   "source": [
    "test_scaled= test_input.reshape(-1, 28, 28, 1)  / 255.0"
   ]
  },
  {
   "cell_type": "code",
   "execution_count": 44,
   "metadata": {},
   "outputs": [],
   "source": [
    "#훈련세트, 검증세트 분리\n",
    "train_scaled, val_scaled, train_target, val_target = train_test_split(\n",
    "    train_scaled, train_target, random_state=42 , test_size=0.2\n",
    ")"
   ]
  },
  {
   "cell_type": "code",
   "execution_count": 45,
   "metadata": {},
   "outputs": [
    {
     "name": "stdout",
     "output_type": "stream",
     "text": [
      "(48000, 28, 28, 1) (48000,)\n",
      "(12000, 28, 28, 1) (12000,)\n"
     ]
    }
   ],
   "source": [
    "print(train_scaled.shape, train_target.shape)\n",
    "print(val_scaled.shape,val_target.shape)\n"
   ]
  },
  {
   "cell_type": "markdown",
   "metadata": {},
   "source": [
    "#### 합성곱 신경망 만들기\n"
   ]
  },
  {
   "cell_type": "code",
   "execution_count": 46,
   "metadata": {},
   "outputs": [],
   "source": [
    "model = keras.Sequential(name='CNN1')\n",
    "\n",
    "# 32 - 합성곱 층의 필터 갯수\n",
    "# kernel_size  3 - (3x3)크기의 커널\n",
    "# padding same - 패딩 추가해서 특성맵 사이즈를 원본과 동일하게\n",
    "\n",
    "model.add(keras.layers.Conv2D(32, kernel_size = 3 , activation = 'relu', padding = 'same' , input_shape=(28,28,1)))"
   ]
  },
  {
   "cell_type": "code",
   "execution_count": 47,
   "metadata": {},
   "outputs": [
    {
     "name": "stdout",
     "output_type": "stream",
     "text": [
      "Model: \"CNN1\"\n",
      "_________________________________________________________________\n",
      " Layer (type)                Output Shape              Param #   \n",
      "=================================================================\n",
      " conv2d_2 (Conv2D)           (None, 28, 28, 32)        320       \n",
      "                                                                 \n",
      "=================================================================\n",
      "Total params: 320 (1.25 KB)\n",
      "Trainable params: 320 (1.25 KB)\n",
      "Non-trainable params: 0 (0.00 Byte)\n",
      "_________________________________________________________________\n"
     ]
    }
   ],
   "source": [
    "model.summary()"
   ]
  },
  {
   "cell_type": "code",
   "execution_count": 48,
   "metadata": {},
   "outputs": [],
   "source": [
    "#  2x2 크기의 맥스 풀링(Max Pooling) 을 적용하는 레이어를 모델에 추가->특성맵이 반으로 줄어듬   ->14x14 이미지\n",
    "# keras.layers.MaxPooling2D(pool_size=2)\n",
    "model.add(keras.layers.MaxPooling2D(2)) "
   ]
  },
  {
   "cell_type": "code",
   "execution_count": 49,
   "metadata": {},
   "outputs": [
    {
     "name": "stdout",
     "output_type": "stream",
     "text": [
      "Model: \"CNN1\"\n",
      "_________________________________________________________________\n",
      " Layer (type)                Output Shape              Param #   \n",
      "=================================================================\n",
      " conv2d_2 (Conv2D)           (None, 28, 28, 32)        320       \n",
      "                                                                 \n",
      " max_pooling2d_2 (MaxPoolin  (None, 14, 14, 32)        0         \n",
      " g2D)                                                            \n",
      "                                                                 \n",
      "=================================================================\n",
      "Total params: 320 (1.25 KB)\n",
      "Trainable params: 320 (1.25 KB)\n",
      "Non-trainable params: 0 (0.00 Byte)\n",
      "_________________________________________________________________\n"
     ]
    }
   ],
   "source": [
    "model.summary()"
   ]
  },
  {
   "cell_type": "code",
   "execution_count": 50,
   "metadata": {},
   "outputs": [],
   "source": [
    "# 두번째 합성곱/풀링층 추가\n",
    "model.add(keras.layers.Conv2D(64, kernel_size = 3 , activation='relu', padding='same'))\n",
    "model.add(keras.layers.MaxPooling2D(2))   # 사이즈반으로 줄어듬 ->7x7x64특성맵 ->3136개의 출력"
   ]
  },
  {
   "cell_type": "code",
   "execution_count": 51,
   "metadata": {},
   "outputs": [
    {
     "name": "stdout",
     "output_type": "stream",
     "text": [
      "Model: \"CNN1\"\n",
      "_________________________________________________________________\n",
      " Layer (type)                Output Shape              Param #   \n",
      "=================================================================\n",
      " conv2d_2 (Conv2D)           (None, 28, 28, 32)        320       \n",
      "                                                                 \n",
      " max_pooling2d_2 (MaxPoolin  (None, 14, 14, 32)        0         \n",
      " g2D)                                                            \n",
      "                                                                 \n",
      " conv2d_3 (Conv2D)           (None, 14, 14, 64)        18496     \n",
      "                                                                 \n",
      " max_pooling2d_3 (MaxPoolin  (None, 7, 7, 64)          0         \n",
      " g2D)                                                            \n",
      "                                                                 \n",
      "=================================================================\n",
      "Total params: 18816 (73.50 KB)\n",
      "Trainable params: 18816 (73.50 KB)\n",
      "Non-trainable params: 0 (0.00 Byte)\n",
      "_________________________________________________________________\n"
     ]
    }
   ],
   "source": [
    "model.summary()"
   ]
  },
  {
   "cell_type": "code",
   "execution_count": 52,
   "metadata": {},
   "outputs": [],
   "source": [
    "# 심층신경망\n",
    "model.add(keras.layers.Flatten())\n",
    "model.add(keras.layers.Dense(100, activation='relu'))\n",
    "model.add(keras.layers.Dropout(0.4))\n",
    "model.add(keras.layers.Dense(10, activation='softmax'))"
   ]
  },
  {
   "cell_type": "markdown",
   "metadata": {},
   "source": [
    "- 위의 학습을 위해 나눠놓은 것을 아래에 하나의 셀에 합치자!"
   ]
  },
  {
   "cell_type": "code",
   "execution_count": 53,
   "metadata": {},
   "outputs": [],
   "source": [
    "model = keras.Sequential(name='CNN1')\n",
    "\n",
    "model.add(keras.layers.Conv2D(32, kernel_size = 3 , activation = 'relu', padding = 'same' , input_shape=(28,28,1), name='Fisrt_CNN'))\n",
    "model.add(keras.layers.MaxPooling2D(2, name='Fisrt_Pooling')) \n",
    "model.add(keras.layers.Conv2D(64, kernel_size = 3 , activation='relu', padding='same', name='Second_CNN'))\n",
    "model.add(keras.layers.MaxPooling2D(2, name='Second_Pooling'))\n",
    "model.add(keras.layers.Flatten( name = 'flatten'))\n",
    "model.add(keras.layers.Dense(100, activation='relu' , name = 'hidden'))\n",
    "model.add(keras.layers.Dropout(0.4, name = 'dropout'))\n",
    "model.add(keras.layers.Dense(10, activation='softmax',name = 'output'))"
   ]
  },
  {
   "cell_type": "code",
   "execution_count": 54,
   "metadata": {},
   "outputs": [
    {
     "name": "stdout",
     "output_type": "stream",
     "text": [
      "Model: \"CNN1\"\n",
      "_________________________________________________________________\n",
      " Layer (type)                Output Shape              Param #   \n",
      "=================================================================\n",
      " Fisrt_CNN (Conv2D)          (None, 28, 28, 32)        320       \n",
      "                                                                 \n",
      " Fisrt_Pooling (MaxPooling2  (None, 14, 14, 32)        0         \n",
      " D)                                                              \n",
      "                                                                 \n",
      " Second_CNN (Conv2D)         (None, 14, 14, 64)        18496     \n",
      "                                                                 \n",
      " Second_Pooling (MaxPooling  (None, 7, 7, 64)          0         \n",
      " 2D)                                                             \n",
      "                                                                 \n",
      " flatten (Flatten)           (None, 3136)              0         \n",
      "                                                                 \n",
      " hidden (Dense)              (None, 100)               313700    \n",
      "                                                                 \n",
      " dropout (Dropout)           (None, 100)               0         \n",
      "                                                                 \n",
      " output (Dense)              (None, 10)                1010      \n",
      "                                                                 \n",
      "=================================================================\n",
      "Total params: 333526 (1.27 MB)\n",
      "Trainable params: 333526 (1.27 MB)\n",
      "Non-trainable params: 0 (0.00 Byte)\n",
      "_________________________________________________________________\n"
     ]
    }
   ],
   "source": [
    "model.summary()"
   ]
  },
  {
   "cell_type": "code",
   "execution_count": 55,
   "metadata": {},
   "outputs": [
    {
     "name": "stdout",
     "output_type": "stream",
     "text": [
      "Requirement already satisfied: pydot in c:\\source\\iot_dataanalysis_2025\\mlvenv\\lib\\site-packages (3.0.4)\n",
      "Requirement already satisfied: pyparsing>=3.0.9 in c:\\source\\iot_dataanalysis_2025\\mlvenv\\lib\\site-packages (from pydot) (3.2.3)\n"
     ]
    },
    {
     "name": "stderr",
     "output_type": "stream",
     "text": [
      "\n",
      "[notice] A new release of pip is available: 24.0 -> 25.0.1\n",
      "[notice] To update, run: python.exe -m pip install --upgrade pip\n"
     ]
    }
   ],
   "source": [
    "!pip install pydot"
   ]
  },
  {
   "cell_type": "code",
   "execution_count": 56,
   "metadata": {},
   "outputs": [
    {
     "data": {
      "image/png": "[encoded data removed]",
      "text/plain": [
       "<IPython.core.display.Image object>"
      ]
     },
     "execution_count": 56,
     "metadata": {},
     "output_type": "execute_result"
    }
   ],
   "source": [
    "# 모델 시각화\n",
    "# !pip install pydot\n",
    "# https://graphviz.gitlab.io/download/) - graphviz-12.2.1(64bit) exe install - add all users 선택\n",
    "# vscode 재시작\n",
    "keras.utils.plot_model(model)"
   ]
  },
  {
   "cell_type": "markdown",
   "metadata": {},
   "source": [
    "#### 모델 컴파일 , 훈련"
   ]
  },
  {
   "cell_type": "code",
   "execution_count": 57,
   "metadata": {},
   "outputs": [],
   "source": [
    "model.compile(loss= 'sparse_categorical_crossentropy', metrics='accuracy', optimizer='adam')\n",
    "\n",
    "checkpoint_cb = keras.callbacks.ModelCheckpoint('best-cnn-model.h5', save_best_only=True)\n",
    "early_stopping_cb = keras.callbacks.EarlyStopping(patience=2, restore_best_weights=True)"
   ]
  },
  {
   "cell_type": "code",
   "execution_count": 58,
   "metadata": {},
   "outputs": [
    {
     "name": "stdout",
     "output_type": "stream",
     "text": [
      "Epoch 1/50\n",
      "1500/1500 [==============================] - 8s 5ms/step - loss: 0.5502 - accuracy: 0.8028 - val_loss: 0.3570 - val_accuracy: 0.8689\n",
      "Epoch 2/50\n",
      "  25/1500 [..............................] - ETA: 6s - loss: 0.3884 - accuracy: 0.8550"
     ]
    },
    {
     "name": "stderr",
     "output_type": "stream",
     "text": [
      "c:\\Source\\iot_dataanalysis_2025\\mlvenv\\Lib\\site-packages\\keras\\src\\engine\\training.py:3103: UserWarning: You are saving your model as an HDF5 file via `model.save()`. This file format is considered legacy. We recommend using instead the native Keras format, e.g. `model.save('my_model.keras')`.\n",
      "  saving_api.save_model(\n"
     ]
    },
    {
     "name": "stdout",
     "output_type": "stream",
     "text": [
      "1500/1500 [==============================] - 7s 5ms/step - loss: 0.3612 - accuracy: 0.8687 - val_loss: 0.2791 - val_accuracy: 0.8975\n",
      "Epoch 3/50\n",
      "1500/1500 [==============================] - 7s 5ms/step - loss: 0.3111 - accuracy: 0.8872 - val_loss: 0.2610 - val_accuracy: 0.8999\n",
      "Epoch 4/50\n",
      "1500/1500 [==============================] - 7s 5ms/step - loss: 0.2805 - accuracy: 0.8983 - val_loss: 0.2343 - val_accuracy: 0.9139\n",
      "Epoch 5/50\n",
      "1500/1500 [==============================] - 7s 5ms/step - loss: 0.2537 - accuracy: 0.9067 - val_loss: 0.2479 - val_accuracy: 0.9065\n",
      "Epoch 6/50\n",
      "1500/1500 [==============================] - 7s 5ms/step - loss: 0.2346 - accuracy: 0.9138 - val_loss: 0.2249 - val_accuracy: 0.9163\n",
      "Epoch 7/50\n",
      "1500/1500 [==============================] - 7s 5ms/step - loss: 0.2191 - accuracy: 0.9192 - val_loss: 0.2258 - val_accuracy: 0.9168\n",
      "Epoch 8/50\n",
      "1500/1500 [==============================] - 7s 5ms/step - loss: 0.2033 - accuracy: 0.9241 - val_loss: 0.2274 - val_accuracy: 0.9189\n"
     ]
    }
   ],
   "source": [
    "# 모델 훈련\n",
    "histroy = model.fit(train_scaled,train_target, epochs= 50, validation_data=(val_scaled, val_target), callbacks=[checkpoint_cb, early_stopping_cb])"
   ]
  },
  {
   "cell_type": "code",
   "execution_count": 59,
   "metadata": {},
   "outputs": [],
   "source": [
    "# 정확도 확인\n",
    "import matplotlib.pyplot as plt"
   ]
  },
  {
   "cell_type": "code",
   "execution_count": 60,
   "metadata": {},
   "outputs": [
    {
     "data": {
      "image/png": "[encoded data removed]",
      "text/plain": [
       "<Figure size 640x480 with 1 Axes>"
      ]
     },
     "metadata": {},
     "output_type": "display_data"
    }
   ],
   "source": [
    "plt.plot(histroy.history['loss'])\n",
    "plt.plot(histroy.history['val_loss'])\n",
    "plt.xlabel('epoch')\n",
    "plt.ylabel('loss')\n",
    "plt.legend(['train','val'])\n",
    "plt.show()"
   ]
  },
  {
   "cell_type": "code",
   "execution_count": 61,
   "metadata": {},
   "outputs": [
    {
     "name": "stdout",
     "output_type": "stream",
     "text": [
      "375/375 [==============================] - 1s 2ms/step - loss: 0.2249 - accuracy: 0.9163\n"
     ]
    },
    {
     "data": {
      "text/plain": [
       "[0.22492723166942596, 0.9163333177566528]"
      ]
     },
     "execution_count": 61,
     "metadata": {},
     "output_type": "execute_result"
    }
   ],
   "source": [
    "# 모델 검증정확도\n",
    "model.evaluate(val_scaled, val_target)"
   ]
  },
  {
   "cell_type": "code",
   "execution_count": 62,
   "metadata": {},
   "outputs": [
    {
     "data": {
      "image/png": "[encoded data removed]",
      "text/plain": [
       "<Figure size 200x200 with 1 Axes>"
      ]
     },
     "metadata": {},
     "output_type": "display_data"
    }
   ],
   "source": [
    "# val_scaled[0]\n",
    "plt.figure(figsize=(2,2))\n",
    "plt.imshow(val_scaled[0].reshape(28, 28), cmap='gray_r')\n",
    "plt.show()\n"
   ]
  },
  {
   "cell_type": "markdown",
   "metadata": {},
   "source": [
    "class_names = ['티셔츠', '바지', '스웨터', '드레스', '코트', '샌달', '셔츠', '스니커즈', '가방', '앵클부츠']"
   ]
  },
  {
   "cell_type": "code",
   "execution_count": 78,
   "metadata": {},
   "outputs": [
    {
     "name": "stdout",
     "output_type": "stream",
     "text": [
      "1/1 [==============================] - 0s 16ms/step\n"
     ]
    },
    {
     "data": {
      "text/plain": [
       "array([[0., 0., 0., 0., 0., 0., 0., 0., 1., 0.]], dtype=float32)"
      ]
     },
     "execution_count": 78,
     "metadata": {},
     "output_type": "execute_result"
    }
   ],
   "source": [
    "# 가방이 인덱스 8인데 예측결과 8번째인덱스 값이 1이다. 예측정확!\n",
    "model.predict(val_scaled[0:1]).round(2)"
   ]
  },
  {
   "cell_type": "code",
   "execution_count": 83,
   "metadata": {},
   "outputs": [
    {
     "name": "stdout",
     "output_type": "stream",
     "text": [
      "313/313 [==============================] - 1s 2ms/step\n"
     ]
    }
   ],
   "source": [
    "pred_result = model.predict(test_scaled).round(2)"
   ]
  },
  {
   "cell_type": "markdown",
   "metadata": {},
   "source": [
    "### 예측시각화"
   ]
  },
  {
   "cell_type": "code",
   "execution_count": 68,
   "metadata": {},
   "outputs": [],
   "source": [
    "class_names = ['티셔츠', '바지', '스웨터', '드레스', '코트', '샌달', '셔츠', '스니커즈', '가방', '앵클부츠']"
   ]
  },
  {
   "cell_type": "code",
   "execution_count": 64,
   "metadata": {},
   "outputs": [],
   "source": [
    "import matplotlib.pyplot as plt\n",
    "import seaborn as sns\n",
    "import numpy as np"
   ]
  },
  {
   "cell_type": "code",
   "execution_count": 65,
   "metadata": {},
   "outputs": [],
   "source": [
    "# 한글로 Matplotlib 사용시 항상 필요\n",
    "from matplotlib import rcParams, font_manager, rc\n",
    "\n",
    "font_path = 'C:/Windows/Fonts/malgun.ttf'\n",
    "font = font_manager.FontProperties(fname=font_path).get_name()\n",
    "rc('font', family=font)\n",
    "rcParams['axes.unicode_minus'] = False\n",
    "\n",
    "sns.set_style('darkgrid')\n",
    "sns.set_theme(font='Malgun Gothic', rc={'axes.unicode_minus': False})"
   ]
  },
  {
   "cell_type": "code",
   "execution_count": 76,
   "metadata": {},
   "outputs": [],
   "source": [
    "# 테스트이미지와 예측결과 시각화\n",
    "def show_image(index):\n",
    "    plt.figure(figsize=(2,2))\n",
    "    plt.imshow(test_scaled[index].reshape(28, 28), cmap='gray_r')\n",
    "    true_label = class_names[test_target[index]]\n",
    "    pred_label = class_names[np.argmax(pred_result[index])]\n",
    "\n",
    "    #plt.title(f'실제: {true_label}, 예측: {pred_label}')\n",
    "    plt.text(0, -6, f'실제: {true_label}', fontsize=12, color='blue')\n",
    "    plt.text(0, -3, f'예측: {pred_label}', fontsize=12, color='red', fontweight='bold')\n",
    "\n",
    "    plt.axis('off')\n",
    "    plt.show()"
   ]
  },
  {
   "cell_type": "code",
   "execution_count": 84,
   "metadata": {},
   "outputs": [
    {
     "data": {
      "image/png": "[encoded data removed]",
      "text/plain": [
       "<Figure size 200x200 with 1 Axes>"
      ]
     },
     "metadata": {},
     "output_type": "display_data"
    },
    {
     "data": {
      "image/png": "[encoded data removed]",
      "text/plain": [
       "<Figure size 200x200 with 1 Axes>"
      ]
     },
     "metadata": {},
     "output_type": "display_data"
    },
    {
     "data": {
      "image/png": "[encoded data removed]",
      "text/plain": [
       "<Figure size 200x200 with 1 Axes>"
      ]
     },
     "metadata": {},
     "output_type": "display_data"
    },
    {
     "data": {
      "image/png": "[encoded data removed]",
      "text/plain": [
       "<Figure size 200x200 with 1 Axes>"
      ]
     },
     "metadata": {},
     "output_type": "display_data"
    },
    {
     "data": {
      "image/png": "[encoded data removed]",
      "text/plain": [
       "<Figure size 200x200 with 1 Axes>"
      ]
     },
     "metadata": {},
     "output_type": "display_data"
    },
    {
     "data": {
      "image/png": "[encoded data removed]",
      "text/plain": [
       "<Figure size 200x200 with 1 Axes>"
      ]
     },
     "metadata": {},
     "output_type": "display_data"
    }
   ],
   "source": [
    "for i in range(11,17):\n",
    "    show_image(i)"
   ]
  },
  {
   "cell_type": "markdown",
   "metadata": {},
   "source": [
    "#### 결론\n",
    "- 일반신경망이나 심층신경망으로 훈련했을 때보다 합성곱신경망이 정확도가 높아짐\n",
    "- 심층신경망 : 대략 88%\n",
    "- 합성곱신경망 : 대략 92%"
   ]
  }
 ],
 "metadata": {
  "kernelspec": {
   "display_name": "mlvenv",
   "language": "python",
   "name": "python3"
  },
  "language_info": {
   "codemirror_mode": {
    "name": "ipython",
    "version": 3
   },
   "file_extension": ".py",
   "mimetype": "text/x-python",
   "name": "python",
   "nbconvert_exporter": "python",
   "pygments_lexer": "ipython3",
   "version": "3.11.9"
  }
 },
 "nbformat": 4,
 "nbformat_minor": 2
}
